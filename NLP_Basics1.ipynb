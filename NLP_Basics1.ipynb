{
  "nbformat": 4,
  "nbformat_minor": 0,
  "metadata": {
    "colab": {
      "name": "NLP_Basics1.ipynb",
      "provenance": [],
      "collapsed_sections": []
    },
    "kernelspec": {
      "name": "python3",
      "display_name": "Python 3"
    },
    "accelerator": "GPU"
  },
  "cells": [
    {
      "cell_type": "code",
      "metadata": {
        "id": "SuItHQUXJz5M"
      },
      "source": [
        "import nltk"
      ],
      "execution_count": 1,
      "outputs": []
    },
    {
      "cell_type": "code",
      "metadata": {
        "colab": {
          "base_uri": "https://localhost:8080/"
        },
        "id": "0PsntYwlJ40Y",
        "outputId": "7020499c-891c-404d-87d5-8abf8ea004b3"
      },
      "source": [
        "## Sentences\n",
        "sentence = \"The quick brown fox jumps over the lazy dog\"\n",
        "print('quick' in sentence)\n",
        "print(sentence.index('fox')) \n",
        "print(sentence.split().index('lazy')) ## split words and give index of the word\n",
        "print(sentence.split()[2])\n",
        "print(sentence.split()[::-1]) ## reverse order\n",
        "words = sentence.split()\n",
        "first_word = words[0]\n",
        "last_word = words[len(words)-1]\n",
        "concat_words = first_word + last_word\n",
        "print(concat_words)\n"
      ],
      "execution_count": 2,
      "outputs": [
        {
          "output_type": "stream",
          "text": [
            "True\n",
            "16\n",
            "7\n",
            "brown\n",
            "['dog', 'lazy', 'the', 'over', 'jumps', 'fox', 'brown', 'quick', 'The']\n",
            "Thedog\n"
          ],
          "name": "stdout"
        }
      ]
    },
    {
      "cell_type": "code",
      "metadata": {
        "colab": {
          "base_uri": "https://localhost:8080/"
        },
        "id": "RL6OS3jUKSmD",
        "outputId": "01e53523-b0f2-4899-d4a0-b8121586e968"
      },
      "source": [
        "print([words[i] for i in range(len(words)) if i%2 == 0])\n",
        "print(sentence[-3:])\n",
        "print(sentence[::-1])\n",
        "print(' '.join([word[::-1] for word in words]))"
      ],
      "execution_count": 3,
      "outputs": [
        {
          "output_type": "stream",
          "text": [
            "['The', 'brown', 'jumps', 'the', 'dog']\n",
            "dog\n",
            "god yzal eht revo spmuj xof nworb kciuq ehT\n",
            "ehT kciuq nworb xof spmuj revo eht yzal god\n"
          ],
          "name": "stdout"
        }
      ]
    },
    {
      "cell_type": "code",
      "metadata": {
        "colab": {
          "base_uri": "https://localhost:8080/"
        },
        "id": "-rVLAMRvTfEc",
        "outputId": "3ad4a909-8dd5-44f9-880b-bc69d033ff87"
      },
      "source": [
        "nltk.download('punkt')\n",
        "nltk.download('averaged_perceptron_tagger')"
      ],
      "execution_count": 4,
      "outputs": [
        {
          "output_type": "stream",
          "text": [
            "[nltk_data] Downloading package punkt to /root/nltk_data...\n",
            "[nltk_data]   Unzipping tokenizers/punkt.zip.\n",
            "[nltk_data] Downloading package averaged_perceptron_tagger to\n",
            "[nltk_data]     /root/nltk_data...\n",
            "[nltk_data]   Unzipping taggers/averaged_perceptron_tagger.zip.\n"
          ],
          "name": "stdout"
        },
        {
          "output_type": "execute_result",
          "data": {
            "text/plain": [
              "True"
            ]
          },
          "metadata": {
            "tags": []
          },
          "execution_count": 4
        }
      ]
    },
    {
      "cell_type": "code",
      "metadata": {
        "colab": {
          "base_uri": "https://localhost:8080/"
        },
        "id": "giBxlUrOOE-A",
        "outputId": "b043e56c-bcfd-4de5-a3d1-4c7807c10da9"
      },
      "source": [
        "import nltk\n",
        "from nltk import word_tokenize\n",
        "words = word_tokenize(sentence)\n",
        "print(words)"
      ],
      "execution_count": 5,
      "outputs": [
        {
          "output_type": "stream",
          "text": [
            "['The', 'quick', 'brown', 'fox', 'jumps', 'over', 'the', 'lazy', 'dog']\n"
          ],
          "name": "stdout"
        }
      ]
    },
    {
      "cell_type": "code",
      "metadata": {
        "colab": {
          "base_uri": "https://localhost:8080/"
        },
        "id": "CQhtQgNYTcLP",
        "outputId": "e9335b19-635c-409b-d7d1-5a7bce06d95d"
      },
      "source": [
        "nltk.pos_tag(words)"
      ],
      "execution_count": 6,
      "outputs": [
        {
          "output_type": "execute_result",
          "data": {
            "text/plain": [
              "[('The', 'DT'),\n",
              " ('quick', 'JJ'),\n",
              " ('brown', 'NN'),\n",
              " ('fox', 'NN'),\n",
              " ('jumps', 'VBZ'),\n",
              " ('over', 'IN'),\n",
              " ('the', 'DT'),\n",
              " ('lazy', 'JJ'),\n",
              " ('dog', 'NN')]"
            ]
          },
          "metadata": {
            "tags": []
          },
          "execution_count": 6
        }
      ]
    },
    {
      "cell_type": "code",
      "metadata": {
        "colab": {
          "base_uri": "https://localhost:8080/"
        },
        "id": "07-VpbvoTYVj",
        "outputId": "fdc0d049-8e12-401f-9cfd-edec2e25e50c"
      },
      "source": [
        "nltk.download('stopwords')"
      ],
      "execution_count": 7,
      "outputs": [
        {
          "output_type": "stream",
          "text": [
            "[nltk_data] Downloading package stopwords to /root/nltk_data...\n",
            "[nltk_data]   Unzipping corpora/stopwords.zip.\n"
          ],
          "name": "stdout"
        },
        {
          "output_type": "execute_result",
          "data": {
            "text/plain": [
              "True"
            ]
          },
          "metadata": {
            "tags": []
          },
          "execution_count": 7
        }
      ]
    },
    {
      "cell_type": "code",
      "metadata": {
        "colab": {
          "base_uri": "https://localhost:8080/"
        },
        "id": "DehkNfhv-ser",
        "outputId": "2299ddd0-e2a2-477c-f309-ce788c54548a"
      },
      "source": [
        "from nltk import word_tokenize\n",
        "from nltk.corpus import stopwords\n",
        "stop_words = stopwords.words('english')\n",
        "no_stop = ' '.join([word for word in words if word not in stop_words])\n",
        "print(no_stop)"
      ],
      "execution_count": 8,
      "outputs": [
        {
          "output_type": "stream",
          "text": [
            "The quick brown fox jumps lazy dog\n"
          ],
          "name": "stdout"
        }
      ]
    },
    {
      "cell_type": "code",
      "metadata": {
        "id": "aTyC8zGD-7rv",
        "colab": {
          "base_uri": "https://localhost:8080/"
        },
        "outputId": "f07dff3e-0d9c-4807-8c31-de74827863d1"
      },
      "source": [
        "## Sentence normalization\n",
        "sentence1 = \"I visited US from UK on 22-10-18\"\n",
        "replaced_data = sentence1.replace('US','united states').replace('UK','united kingdom')\n",
        "print(replaced_data)"
      ],
      "execution_count": 9,
      "outputs": [
        {
          "output_type": "stream",
          "text": [
            "I visited united states from united kingdom on 22-10-18\n"
          ],
          "name": "stdout"
        }
      ]
    },
    {
      "cell_type": "code",
      "metadata": {
        "colab": {
          "base_uri": "https://localhost:8080/"
        },
        "id": "2JnU0ca_MmJj",
        "outputId": "4f764baf-64fe-4789-c494-9ea283dc96ef"
      },
      "source": [
        "!pip install autocorrect"
      ],
      "execution_count": 10,
      "outputs": [
        {
          "output_type": "stream",
          "text": [
            "Collecting autocorrect\n",
            "\u001b[?25l  Downloading https://files.pythonhosted.org/packages/08/ba/c1a61e1ad64f62b29a53dc55cec451ded52eb6084a5822566cc41d01a578/autocorrect-2.4.0.tar.gz (622kB)\n",
            "\r\u001b[K     |▌                               | 10kB 17.6MB/s eta 0:00:01\r\u001b[K     |█                               | 20kB 23.7MB/s eta 0:00:01\r\u001b[K     |█▋                              | 30kB 12.7MB/s eta 0:00:01\r\u001b[K     |██                              | 40kB 9.9MB/s eta 0:00:01\r\u001b[K     |██▋                             | 51kB 7.2MB/s eta 0:00:01\r\u001b[K     |███▏                            | 61kB 7.7MB/s eta 0:00:01\r\u001b[K     |███▊                            | 71kB 7.6MB/s eta 0:00:01\r\u001b[K     |████▏                           | 81kB 8.1MB/s eta 0:00:01\r\u001b[K     |████▊                           | 92kB 8.4MB/s eta 0:00:01\r\u001b[K     |█████▎                          | 102kB 8.6MB/s eta 0:00:01\r\u001b[K     |█████▉                          | 112kB 8.6MB/s eta 0:00:01\r\u001b[K     |██████▎                         | 122kB 8.6MB/s eta 0:00:01\r\u001b[K     |██████▉                         | 133kB 8.6MB/s eta 0:00:01\r\u001b[K     |███████▍                        | 143kB 8.6MB/s eta 0:00:01\r\u001b[K     |████████                        | 153kB 8.6MB/s eta 0:00:01\r\u001b[K     |████████▍                       | 163kB 8.6MB/s eta 0:00:01\r\u001b[K     |█████████                       | 174kB 8.6MB/s eta 0:00:01\r\u001b[K     |█████████▌                      | 184kB 8.6MB/s eta 0:00:01\r\u001b[K     |██████████                      | 194kB 8.6MB/s eta 0:00:01\r\u001b[K     |██████████▌                     | 204kB 8.6MB/s eta 0:00:01\r\u001b[K     |███████████                     | 215kB 8.6MB/s eta 0:00:01\r\u001b[K     |███████████▋                    | 225kB 8.6MB/s eta 0:00:01\r\u001b[K     |████████████▏                   | 235kB 8.6MB/s eta 0:00:01\r\u001b[K     |████████████▋                   | 245kB 8.6MB/s eta 0:00:01\r\u001b[K     |█████████████▏                  | 256kB 8.6MB/s eta 0:00:01\r\u001b[K     |█████████████▊                  | 266kB 8.6MB/s eta 0:00:01\r\u001b[K     |██████████████▏                 | 276kB 8.6MB/s eta 0:00:01\r\u001b[K     |██████████████▊                 | 286kB 8.6MB/s eta 0:00:01\r\u001b[K     |███████████████▎                | 296kB 8.6MB/s eta 0:00:01\r\u001b[K     |███████████████▉                | 307kB 8.6MB/s eta 0:00:01\r\u001b[K     |████████████████▎               | 317kB 8.6MB/s eta 0:00:01\r\u001b[K     |████████████████▉               | 327kB 8.6MB/s eta 0:00:01\r\u001b[K     |█████████████████▍              | 337kB 8.6MB/s eta 0:00:01\r\u001b[K     |██████████████████              | 348kB 8.6MB/s eta 0:00:01\r\u001b[K     |██████████████████▍             | 358kB 8.6MB/s eta 0:00:01\r\u001b[K     |███████████████████             | 368kB 8.6MB/s eta 0:00:01\r\u001b[K     |███████████████████▌            | 378kB 8.6MB/s eta 0:00:01\r\u001b[K     |████████████████████            | 389kB 8.6MB/s eta 0:00:01\r\u001b[K     |████████████████████▌           | 399kB 8.6MB/s eta 0:00:01\r\u001b[K     |█████████████████████           | 409kB 8.6MB/s eta 0:00:01\r\u001b[K     |█████████████████████▋          | 419kB 8.6MB/s eta 0:00:01\r\u001b[K     |██████████████████████▏         | 430kB 8.6MB/s eta 0:00:01\r\u001b[K     |██████████████████████▋         | 440kB 8.6MB/s eta 0:00:01\r\u001b[K     |███████████████████████▏        | 450kB 8.6MB/s eta 0:00:01\r\u001b[K     |███████████████████████▊        | 460kB 8.6MB/s eta 0:00:01\r\u001b[K     |████████████████████████▎       | 471kB 8.6MB/s eta 0:00:01\r\u001b[K     |████████████████████████▊       | 481kB 8.6MB/s eta 0:00:01\r\u001b[K     |█████████████████████████▎      | 491kB 8.6MB/s eta 0:00:01\r\u001b[K     |█████████████████████████▉      | 501kB 8.6MB/s eta 0:00:01\r\u001b[K     |██████████████████████████▍     | 512kB 8.6MB/s eta 0:00:01\r\u001b[K     |██████████████████████████▉     | 522kB 8.6MB/s eta 0:00:01\r\u001b[K     |███████████████████████████▍    | 532kB 8.6MB/s eta 0:00:01\r\u001b[K     |████████████████████████████    | 542kB 8.6MB/s eta 0:00:01\r\u001b[K     |████████████████████████████▍   | 552kB 8.6MB/s eta 0:00:01\r\u001b[K     |█████████████████████████████   | 563kB 8.6MB/s eta 0:00:01\r\u001b[K     |█████████████████████████████▌  | 573kB 8.6MB/s eta 0:00:01\r\u001b[K     |██████████████████████████████  | 583kB 8.6MB/s eta 0:00:01\r\u001b[K     |██████████████████████████████▌ | 593kB 8.6MB/s eta 0:00:01\r\u001b[K     |███████████████████████████████ | 604kB 8.6MB/s eta 0:00:01\r\u001b[K     |███████████████████████████████▋| 614kB 8.6MB/s eta 0:00:01\r\u001b[K     |████████████████████████████████| 624kB 8.6MB/s \n",
            "\u001b[?25hBuilding wheels for collected packages: autocorrect\n",
            "  Building wheel for autocorrect (setup.py) ... \u001b[?25l\u001b[?25hdone\n",
            "  Created wheel for autocorrect: filename=autocorrect-2.4.0-cp37-none-any.whl size=621775 sha256=7beccc24eb49fec7b416903020d2a454ebfc1b9938f208773f31b06be1a1b9f9\n",
            "  Stored in directory: /root/.cache/pip/wheels/1d/b0/d4/b941891ad0f8d8847be03583e21e68ed4732d763c71a6c0943\n",
            "Successfully built autocorrect\n",
            "Installing collected packages: autocorrect\n",
            "Successfully installed autocorrect-2.4.0\n"
          ],
          "name": "stdout"
        }
      ]
    },
    {
      "cell_type": "code",
      "metadata": {
        "id": "tgwNbJ5d9CoO"
      },
      "source": [
        "import nltk\n",
        "from autocorrect import spell"
      ],
      "execution_count": 11,
      "outputs": []
    },
    {
      "cell_type": "code",
      "metadata": {
        "colab": {
          "base_uri": "https://localhost:8080/",
          "height": 53
        },
        "id": "2zdTp5zNMMLp",
        "outputId": "da5099be-2a44-4bc7-fd9b-11c1bb331ddd"
      },
      "source": [
        "spell('wheree')"
      ],
      "execution_count": 12,
      "outputs": [
        {
          "output_type": "stream",
          "text": [
            "autocorrect.spell is deprecated,             use autocorrect.Speller instead\n"
          ],
          "name": "stdout"
        },
        {
          "output_type": "execute_result",
          "data": {
            "application/vnd.google.colaboratory.intrinsic+json": {
              "type": "string"
            },
            "text/plain": [
              "'where'"
            ]
          },
          "metadata": {
            "tags": []
          },
          "execution_count": 12
        }
      ]
    },
    {
      "cell_type": "code",
      "metadata": {
        "id": "YGmY4FNoMyc-"
      },
      "source": [
        "from nltk import word_tokenize\n",
        "sentence = word_tokenize(\"Ntural Luanguage Processin deals with the art of extracting insightes from Natural Languaes\")"
      ],
      "execution_count": 13,
      "outputs": []
    },
    {
      "cell_type": "code",
      "metadata": {
        "colab": {
          "base_uri": "https://localhost:8080/"
        },
        "id": "EWlQgbHLOboX",
        "outputId": "ca99e4ed-68ed-42d9-a98d-cdb1ee235b28"
      },
      "source": [
        "sentence = ' '.join([spell(word) for word in sentence ])"
      ],
      "execution_count": 14,
      "outputs": [
        {
          "output_type": "stream",
          "text": [
            "autocorrect.spell is deprecated,             use autocorrect.Speller instead\n",
            "autocorrect.spell is deprecated,             use autocorrect.Speller instead\n",
            "autocorrect.spell is deprecated,             use autocorrect.Speller instead\n",
            "autocorrect.spell is deprecated,             use autocorrect.Speller instead\n",
            "autocorrect.spell is deprecated,             use autocorrect.Speller instead\n",
            "autocorrect.spell is deprecated,             use autocorrect.Speller instead\n",
            "autocorrect.spell is deprecated,             use autocorrect.Speller instead\n",
            "autocorrect.spell is deprecated,             use autocorrect.Speller instead\n",
            "autocorrect.spell is deprecated,             use autocorrect.Speller instead\n",
            "autocorrect.spell is deprecated,             use autocorrect.Speller instead\n",
            "autocorrect.spell is deprecated,             use autocorrect.Speller instead\n",
            "autocorrect.spell is deprecated,             use autocorrect.Speller instead\n",
            "autocorrect.spell is deprecated,             use autocorrect.Speller instead\n"
          ],
          "name": "stdout"
        }
      ]
    },
    {
      "cell_type": "code",
      "metadata": {
        "id": "ugQzrOFQOqB_",
        "colab": {
          "base_uri": "https://localhost:8080/",
          "height": 35
        },
        "outputId": "a9ac2728-1fcf-4760-d193-b366be135228"
      },
      "source": [
        "sentence"
      ],
      "execution_count": 15,
      "outputs": [
        {
          "output_type": "execute_result",
          "data": {
            "application/vnd.google.colaboratory.intrinsic+json": {
              "type": "string"
            },
            "text/plain": [
              "'Natural Language Processing deals with the art of extracting insights from Natural Languages'"
            ]
          },
          "metadata": {
            "tags": []
          },
          "execution_count": 15
        }
      ]
    },
    {
      "cell_type": "code",
      "metadata": {
        "id": "bS3Ysh0uOrjT",
        "colab": {
          "base_uri": "https://localhost:8080/"
        },
        "outputId": "200eaf66-c50d-41b9-e3db-5a1fc49bd0a0"
      },
      "source": [
        "stemmer = nltk.stem.PorterStemmer()\n",
        "print(stemmer.stem('Production'))\n",
        "print(stemmer.stem(\"coming\"))\n",
        "print(stemmer.stem(\"firing\"))\n",
        "print(stemmer.stem(\"battling\"))"
      ],
      "execution_count": 21,
      "outputs": [
        {
          "output_type": "stream",
          "text": [
            "product\n",
            "come\n",
            "fire\n",
            "battl\n"
          ],
          "name": "stdout"
        }
      ]
    },
    {
      "cell_type": "code",
      "metadata": {
        "colab": {
          "base_uri": "https://localhost:8080/"
        },
        "id": "YZplifdqe9WI",
        "outputId": "451c19d2-ba02-4705-b8a1-df67513b0ec1"
      },
      "source": [
        "nltk.download('wordnet')"
      ],
      "execution_count": 19,
      "outputs": [
        {
          "output_type": "stream",
          "text": [
            "[nltk_data] Downloading package wordnet to /root/nltk_data...\n",
            "[nltk_data]   Unzipping corpora/wordnet.zip.\n"
          ],
          "name": "stdout"
        },
        {
          "output_type": "execute_result",
          "data": {
            "text/plain": [
              "True"
            ]
          },
          "metadata": {
            "tags": []
          },
          "execution_count": 19
        }
      ]
    },
    {
      "cell_type": "code",
      "metadata": {
        "colab": {
          "base_uri": "https://localhost:8080/"
        },
        "id": "thfTSg-8fYOU",
        "outputId": "1669bb77-36da-44bc-b955-543e3a75fa19"
      },
      "source": [
        "from nltk import WordNetLemmatizer\n",
        "lemmatizer = WordNetLemmatizer()\n",
        "print(lemmatizer.lemmatize('Production'))\n",
        "print(lemmatizer.lemmatize('coming'))\n",
        "print(lemmatizer.lemmatize('firing'))\n",
        "print(lemmatizer.lemmatize('battling'))\n",
        "print(lemmatizer.lemmatize('products'))\n",
        "print(lemmatizer.lemmatize('battle'))"
      ],
      "execution_count": 24,
      "outputs": [
        {
          "output_type": "stream",
          "text": [
            "Production\n",
            "coming\n",
            "firing\n",
            "battling\n",
            "product\n",
            "battle\n"
          ],
          "name": "stdout"
        }
      ]
    },
    {
      "cell_type": "code",
      "metadata": {
        "colab": {
          "base_uri": "https://localhost:8080/"
        },
        "id": "OSIzSoOZgs-l",
        "outputId": "2cfa6314-e53b-4e49-b0a6-a0f551b6e4ba"
      },
      "source": [
        "nltk.download('maxent_ne_chunker')"
      ],
      "execution_count": 25,
      "outputs": [
        {
          "output_type": "stream",
          "text": [
            "[nltk_data] Downloading package maxent_ne_chunker to\n",
            "[nltk_data]     /root/nltk_data...\n",
            "[nltk_data]   Unzipping chunkers/maxent_ne_chunker.zip.\n"
          ],
          "name": "stdout"
        },
        {
          "output_type": "execute_result",
          "data": {
            "text/plain": [
              "True"
            ]
          },
          "metadata": {
            "tags": []
          },
          "execution_count": 25
        }
      ]
    },
    {
      "cell_type": "code",
      "metadata": {
        "colab": {
          "base_uri": "https://localhost:8080/"
        },
        "id": "FrKUlBTtilY4",
        "outputId": "d5f17288-e942-4e67-9a0d-d6d5a08514e4"
      },
      "source": [
        "nltk.download('words')"
      ],
      "execution_count": 26,
      "outputs": [
        {
          "output_type": "stream",
          "text": [
            "[nltk_data] Downloading package words to /root/nltk_data...\n",
            "[nltk_data]   Unzipping corpora/words.zip.\n"
          ],
          "name": "stdout"
        },
        {
          "output_type": "execute_result",
          "data": {
            "text/plain": [
              "True"
            ]
          },
          "metadata": {
            "tags": []
          },
          "execution_count": 26
        }
      ]
    },
    {
      "cell_type": "code",
      "metadata": {
        "id": "q2Xl8QXIir3u"
      },
      "source": [
        "sentence = \"I am pooja working as Machine learning engineer.\""
      ],
      "execution_count": 29,
      "outputs": []
    },
    {
      "cell_type": "code",
      "metadata": {
        "colab": {
          "base_uri": "https://localhost:8080/"
        },
        "id": "b5xBtDBrixjL",
        "outputId": "f3e4fa53-a2b1-4e22-d892-96273493f6e9"
      },
      "source": [
        "i = nltk.ne_chunk(nltk.pos_tag(word_tokenize(sentence)), binary=True)\n",
        "[a for a in i if len(a)==1]"
      ],
      "execution_count": 30,
      "outputs": [
        {
          "output_type": "execute_result",
          "data": {
            "text/plain": [
              "[Tree('NE', [('Machine', 'NNP')])]"
            ]
          },
          "metadata": {
            "tags": []
          },
          "execution_count": 30
        }
      ]
    },
    {
      "cell_type": "code",
      "metadata": {
        "colab": {
          "base_uri": "https://localhost:8080/"
        },
        "id": "5TGlUsz0jJUa",
        "outputId": "49036d2f-7d57-4ce1-b5a8-aeb7266fd22e"
      },
      "source": [
        "from nltk import sent_tokenize\n",
        "sent = sent_tokenize(\"I am pooja working as Machine learning engineer.We are reading a book. Do you know who is the publisher? It is Packt. Packt is based out of Birmingham.\")\n",
        "sent"
      ],
      "execution_count": 33,
      "outputs": [
        {
          "output_type": "execute_result",
          "data": {
            "text/plain": [
              "['I am pooja working as Machine learning engineer.We are reading a book.',\n",
              " 'Do you know who is the publisher?',\n",
              " 'It is Packt.',\n",
              " 'Packt is based out of Birmingham.']"
            ]
          },
          "metadata": {
            "tags": []
          },
          "execution_count": 33
        }
      ]
    },
    {
      "cell_type": "code",
      "metadata": {
        "colab": {
          "base_uri": "https://localhost:8080/"
        },
        "id": "VjpNDWBWj4rm",
        "outputId": "0f8cd4d2-6b60-42e7-daf9-f051023fbb59"
      },
      "source": [
        "from nltk.wsd import lesk\n",
        "sentence1 = \"Keep your savings in the bank\"\n",
        "print(lesk(word_tokenize(sentence1), 'bank'))\n",
        "sentence2 = \"It's so risky to drive over the banks of the road\"\n",
        "print(lesk(word_tokenize(sentence2), 'bank'))"
      ],
      "execution_count": 35,
      "outputs": [
        {
          "output_type": "stream",
          "text": [
            "Synset('savings_bank.n.02')\n",
            "Synset('bank.v.07')\n"
          ],
          "name": "stdout"
        }
      ]
    }
  ]
}